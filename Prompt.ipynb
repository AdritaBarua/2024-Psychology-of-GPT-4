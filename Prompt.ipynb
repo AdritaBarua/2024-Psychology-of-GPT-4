{
 "cells": [
  {
   "cell_type": "code",
   "execution_count": null,
   "id": "093a8149",
   "metadata": {},
   "outputs": [],
   "source": [
    "import os\n",
    "import openai\n",
    "\n",
    "# Function to read the text file\n",
    "def read_text_file(file_path):\n",
    "    with open(file_path, 'r') as file:\n",
    "        return file.read()\n",
    "\n",
    "# Replace 'YOUR_OPENAI_API_KEY' with your actual OpenAI API key\n",
    "openai.api_key = 'YOUR_OPENAI_API_KEY'\n",
    "\n",
    "# Function to interact with ChatGPT and ask questions\n",
    "def ask_question(prompt):\n",
    "    response = openai.ChatCompletion.create(\n",
    "        model = 'gpt-4',  # Use the appropriate GPT-4 model\n",
    "        messages = [{'role': 'user', 'content': prompt}],\n",
    "        temperature=0.5,\n",
    "        top_p=1\n",
    "    )\n",
    "    response_text = response['choices'][0]['message']['content']\n",
    "    return response_text\n",
    "\n",
    "def process_sets():\n",
    "    for set_num in range(1, 6):\n",
    "        prompt_file_path = f'/Users/adrita/Downloads/Personality_tests/PROMPTS/ASI_PROMPT.txt' #put your own file path\n",
    "        response_file_path = f'/Users/adrita/Downloads/Personality_tests/RESPONSES/ASI_0.5/response_ASI_0.5_{set_num}.txt' #put your own file path\n",
    "\n",
    "        # Read the contents of the prompt\n",
    "        text = read_text_file(prompt_file_path)\n",
    "\n",
    "        # Construct the prompt question\n",
    "        prompt = text\n",
    "\n",
    "        # Ask the question to the ChatGPT model\n",
    "        answer = ask_question(prompt)\n",
    "\n",
    "        # Store the response in a separate file\n",
    "        with open(response_file_path, 'w') as response_file:\n",
    "            response_file.write(answer)\n",
    "\n",
    "        print(f\"Response for Set{set_num} saved to {response_file_path}\")\n",
    "\n",
    "# Call the function to process all sets\n",
    "process_sets()"
   ]
  }
 ],
 "metadata": {
  "kernelspec": {
   "display_name": "Python 3 (ipykernel)",
   "language": "python",
   "name": "python3"
  },
  "language_info": {
   "codemirror_mode": {
    "name": "ipython",
    "version": 3
   },
   "file_extension": ".py",
   "mimetype": "text/x-python",
   "name": "python",
   "nbconvert_exporter": "python",
   "pygments_lexer": "ipython3",
   "version": "3.10.9"
  }
 },
 "nbformat": 4,
 "nbformat_minor": 5
}
